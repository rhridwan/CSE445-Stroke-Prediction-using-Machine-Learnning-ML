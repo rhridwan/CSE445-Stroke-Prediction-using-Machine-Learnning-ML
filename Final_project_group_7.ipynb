{
  "nbformat": 4,
  "nbformat_minor": 0,
  "metadata": {
    "colab": {
      "name": "Final_project_group_7_Reyad_Ridwan.ipynb",
      "provenance": [],
      "collapsed_sections": [],
      "toc_visible": true
    },
    "kernelspec": {
      "name": "python3",
      "display_name": "Python 3"
    },
    "language_info": {
      "name": "python"
    }
  },
  "cells": [
    {
      "cell_type": "markdown",
      "metadata": {
        "id": "C1U1cAAw1wY4"
      },
      "source": [
        "# CSE_440_ Final_Project\n",
        "# Sec: 02\n",
        "# Group number: 7\n",
        "## Name: Md Reyad Hossain       ID: 1721966642\n",
        "## Name: Ridwanul Haque            ID: 1721144042"
      ]
    },
    {
      "cell_type": "markdown",
      "metadata": {
        "id": "wRYIUh4u0X8P"
      },
      "source": [
        "# Getting Started: The Dataset (15): \n",
        "## Import necessary files\n",
        "1.   Import necessary files\n",
        "2.   upload the dataset\n",
        "3.   covert the dataset to a dataframe\n",
        "4.   make a copy of your dataframe, and work on that copy.\n",
        "\n",
        "                hint: df_copied = df.copy(deep=True)"
      ]
    },
    {
      "cell_type": "code",
      "metadata": {
        "colab": {
          "base_uri": "https://localhost:8080/",
          "height": 469
        },
        "id": "NWan3FkJT5rJ",
        "outputId": "fc1b5f8c-ca32-48bd-b9d6-a32f32c773df"
      },
      "source": [
        "#import all neccesary file\n",
        "import numpy as np\n",
        "import pandas as pd \n",
        "import seaborn as sns\n",
        "import os\n",
        "import math\n",
        "import matplotlib.pyplot as plt\n",
        "import numpy as np\n",
        "import math\n",
        "from sklearn.metrics import confusion_matrix\n",
        "from sklearn.neighbors import KNeighborsClassifier\n",
        "from sklearn import metrics\n",
        "from sklearn import tree, metrics\n",
        "from sklearn.neighbors import KNeighborsClassifier\n",
        "from sklearn.tree import DecisionTreeClassifier\n",
        "from sklearn.model_selection import train_test_split\n",
        "df = pd.read_csv(\"healthcare-dataset-stroke-data.csv\") # Convert dataset to Data Frame also upload the dataset.\n",
        "df_copied = df.copy(deep=True) # make a copy of my dataframe \"df\"\n",
        "df_copied  # Showing my data "
      ],
      "execution_count": null,
      "outputs": [
        {
          "output_type": "execute_result",
          "data": {
            "text/html": [
              "<div>\n",
              "<style scoped>\n",
              "    .dataframe tbody tr th:only-of-type {\n",
              "        vertical-align: middle;\n",
              "    }\n",
              "\n",
              "    .dataframe tbody tr th {\n",
              "        vertical-align: top;\n",
              "    }\n",
              "\n",
              "    .dataframe thead th {\n",
              "        text-align: right;\n",
              "    }\n",
              "</style>\n",
              "<table border=\"1\" class=\"dataframe\">\n",
              "  <thead>\n",
              "    <tr style=\"text-align: right;\">\n",
              "      <th></th>\n",
              "      <th>id</th>\n",
              "      <th>gender</th>\n",
              "      <th>age</th>\n",
              "      <th>hypertension</th>\n",
              "      <th>heart_disease</th>\n",
              "      <th>ever_married</th>\n",
              "      <th>work_type</th>\n",
              "      <th>Residence_type</th>\n",
              "      <th>avg_glucose_level</th>\n",
              "      <th>bmi</th>\n",
              "      <th>smoking_status</th>\n",
              "      <th>stroke</th>\n",
              "    </tr>\n",
              "  </thead>\n",
              "  <tbody>\n",
              "    <tr>\n",
              "      <th>0</th>\n",
              "      <td>9046</td>\n",
              "      <td>Male</td>\n",
              "      <td>67.0</td>\n",
              "      <td>0</td>\n",
              "      <td>1</td>\n",
              "      <td>Yes</td>\n",
              "      <td>Private</td>\n",
              "      <td>Urban</td>\n",
              "      <td>228.69</td>\n",
              "      <td>36.6</td>\n",
              "      <td>formerly smoked</td>\n",
              "      <td>1</td>\n",
              "    </tr>\n",
              "    <tr>\n",
              "      <th>1</th>\n",
              "      <td>51676</td>\n",
              "      <td>Female</td>\n",
              "      <td>61.0</td>\n",
              "      <td>0</td>\n",
              "      <td>0</td>\n",
              "      <td>Yes</td>\n",
              "      <td>Self-employed</td>\n",
              "      <td>Rural</td>\n",
              "      <td>202.21</td>\n",
              "      <td>NaN</td>\n",
              "      <td>never smoked</td>\n",
              "      <td>1</td>\n",
              "    </tr>\n",
              "    <tr>\n",
              "      <th>2</th>\n",
              "      <td>31112</td>\n",
              "      <td>Male</td>\n",
              "      <td>80.0</td>\n",
              "      <td>0</td>\n",
              "      <td>1</td>\n",
              "      <td>Yes</td>\n",
              "      <td>Private</td>\n",
              "      <td>Rural</td>\n",
              "      <td>105.92</td>\n",
              "      <td>32.5</td>\n",
              "      <td>never smoked</td>\n",
              "      <td>1</td>\n",
              "    </tr>\n",
              "    <tr>\n",
              "      <th>3</th>\n",
              "      <td>60182</td>\n",
              "      <td>Female</td>\n",
              "      <td>49.0</td>\n",
              "      <td>0</td>\n",
              "      <td>0</td>\n",
              "      <td>Yes</td>\n",
              "      <td>Private</td>\n",
              "      <td>Urban</td>\n",
              "      <td>171.23</td>\n",
              "      <td>34.4</td>\n",
              "      <td>smokes</td>\n",
              "      <td>1</td>\n",
              "    </tr>\n",
              "    <tr>\n",
              "      <th>4</th>\n",
              "      <td>1665</td>\n",
              "      <td>Female</td>\n",
              "      <td>79.0</td>\n",
              "      <td>1</td>\n",
              "      <td>0</td>\n",
              "      <td>Yes</td>\n",
              "      <td>Self-employed</td>\n",
              "      <td>Rural</td>\n",
              "      <td>174.12</td>\n",
              "      <td>24.0</td>\n",
              "      <td>never smoked</td>\n",
              "      <td>1</td>\n",
              "    </tr>\n",
              "    <tr>\n",
              "      <th>...</th>\n",
              "      <td>...</td>\n",
              "      <td>...</td>\n",
              "      <td>...</td>\n",
              "      <td>...</td>\n",
              "      <td>...</td>\n",
              "      <td>...</td>\n",
              "      <td>...</td>\n",
              "      <td>...</td>\n",
              "      <td>...</td>\n",
              "      <td>...</td>\n",
              "      <td>...</td>\n",
              "      <td>...</td>\n",
              "    </tr>\n",
              "    <tr>\n",
              "      <th>5105</th>\n",
              "      <td>18234</td>\n",
              "      <td>Female</td>\n",
              "      <td>80.0</td>\n",
              "      <td>1</td>\n",
              "      <td>0</td>\n",
              "      <td>Yes</td>\n",
              "      <td>Private</td>\n",
              "      <td>Urban</td>\n",
              "      <td>83.75</td>\n",
              "      <td>NaN</td>\n",
              "      <td>never smoked</td>\n",
              "      <td>0</td>\n",
              "    </tr>\n",
              "    <tr>\n",
              "      <th>5106</th>\n",
              "      <td>44873</td>\n",
              "      <td>Female</td>\n",
              "      <td>81.0</td>\n",
              "      <td>0</td>\n",
              "      <td>0</td>\n",
              "      <td>Yes</td>\n",
              "      <td>Self-employed</td>\n",
              "      <td>Urban</td>\n",
              "      <td>125.20</td>\n",
              "      <td>40.0</td>\n",
              "      <td>never smoked</td>\n",
              "      <td>0</td>\n",
              "    </tr>\n",
              "    <tr>\n",
              "      <th>5107</th>\n",
              "      <td>19723</td>\n",
              "      <td>Female</td>\n",
              "      <td>35.0</td>\n",
              "      <td>0</td>\n",
              "      <td>0</td>\n",
              "      <td>Yes</td>\n",
              "      <td>Self-employed</td>\n",
              "      <td>Rural</td>\n",
              "      <td>82.99</td>\n",
              "      <td>30.6</td>\n",
              "      <td>never smoked</td>\n",
              "      <td>0</td>\n",
              "    </tr>\n",
              "    <tr>\n",
              "      <th>5108</th>\n",
              "      <td>37544</td>\n",
              "      <td>Male</td>\n",
              "      <td>51.0</td>\n",
              "      <td>0</td>\n",
              "      <td>0</td>\n",
              "      <td>Yes</td>\n",
              "      <td>Private</td>\n",
              "      <td>Rural</td>\n",
              "      <td>166.29</td>\n",
              "      <td>25.6</td>\n",
              "      <td>formerly smoked</td>\n",
              "      <td>0</td>\n",
              "    </tr>\n",
              "    <tr>\n",
              "      <th>5109</th>\n",
              "      <td>44679</td>\n",
              "      <td>Female</td>\n",
              "      <td>44.0</td>\n",
              "      <td>0</td>\n",
              "      <td>0</td>\n",
              "      <td>Yes</td>\n",
              "      <td>Govt_job</td>\n",
              "      <td>Urban</td>\n",
              "      <td>85.28</td>\n",
              "      <td>26.2</td>\n",
              "      <td>Unknown</td>\n",
              "      <td>0</td>\n",
              "    </tr>\n",
              "  </tbody>\n",
              "</table>\n",
              "<p>5110 rows × 12 columns</p>\n",
              "</div>"
            ],
            "text/plain": [
              "         id  gender   age  ...   bmi   smoking_status stroke\n",
              "0      9046    Male  67.0  ...  36.6  formerly smoked      1\n",
              "1     51676  Female  61.0  ...   NaN     never smoked      1\n",
              "2     31112    Male  80.0  ...  32.5     never smoked      1\n",
              "3     60182  Female  49.0  ...  34.4           smokes      1\n",
              "4      1665  Female  79.0  ...  24.0     never smoked      1\n",
              "...     ...     ...   ...  ...   ...              ...    ...\n",
              "5105  18234  Female  80.0  ...   NaN     never smoked      0\n",
              "5106  44873  Female  81.0  ...  40.0     never smoked      0\n",
              "5107  19723  Female  35.0  ...  30.6     never smoked      0\n",
              "5108  37544    Male  51.0  ...  25.6  formerly smoked      0\n",
              "5109  44679  Female  44.0  ...  26.2          Unknown      0\n",
              "\n",
              "[5110 rows x 12 columns]"
            ]
          },
          "metadata": {
            "tags": []
          },
          "execution_count": 95
        }
      ]
    },
    {
      "cell_type": "markdown",
      "metadata": {
        "id": "_cjnBE750Pl3"
      },
      "source": [
        "# Part 1: Getting to know your data\n"
      ]
    },
    {
      "cell_type": "markdown",
      "metadata": {
        "id": "FHV_p0lt4OHl"
      },
      "source": [
        "## Feature selection (10): \n",
        "\n",
        "\n",
        "1.   List all the columns, do you think all of the columns are necessary? \n",
        "2.   Remove any unnecessary columns if any. (for example: in the heart desease UCI dataset, all columns are usefull)\n",
        "\n"
      ]
    },
    {
      "cell_type": "code",
      "metadata": {
        "id": "bBsDb90L47sz",
        "colab": {
          "base_uri": "https://localhost:8080/"
        },
        "outputId": "68a3b99f-6c88-477a-ec88-99b4ef14441a"
      },
      "source": [
        "df_copied.columns # List all the columns of my dataset"
      ],
      "execution_count": null,
      "outputs": [
        {
          "output_type": "execute_result",
          "data": {
            "text/plain": [
              "Index(['id', 'gender', 'age', 'hypertension', 'heart_disease', 'ever_married',\n",
              "       'work_type', 'Residence_type', 'avg_glucose_level', 'bmi',\n",
              "       'smoking_status', 'stroke'],\n",
              "      dtype='object')"
            ]
          },
          "metadata": {
            "tags": []
          },
          "execution_count": 96
        }
      ]
    },
    {
      "cell_type": "markdown",
      "metadata": {
        "id": "d2Wu0LpQNbB_"
      },
      "source": [
        "# Comment:\n",
        "### Here we are showing list of columns in my dataset"
      ]
    },
    {
      "cell_type": "code",
      "metadata": {
        "id": "Y4GxZ99v5QEO"
      },
      "source": [
        "df_copied.drop('id', inplace=True, axis=1) # Remove unnecessary columns"
      ],
      "execution_count": null,
      "outputs": []
    },
    {
      "cell_type": "markdown",
      "metadata": {
        "id": "MYKUL3DJMCtY"
      },
      "source": [
        "# Comment\n",
        "### We are dropping ID column here as in analysis, it has no impact, that's why we can drop this column\n",
        "## ref link: https://www.educative.io/edpresso/how-to-delete-a-column-in-pandas"
      ]
    },
    {
      "cell_type": "code",
      "metadata": {
        "colab": {
          "base_uri": "https://localhost:8080/",
          "height": 402
        },
        "id": "pA8q9n0U5YW2",
        "outputId": "af854ba5-f5c1-44a7-d4b7-58ab607fda09"
      },
      "source": [
        "df_copied"
      ],
      "execution_count": null,
      "outputs": [
        {
          "output_type": "execute_result",
          "data": {
            "text/html": [
              "<div>\n",
              "<style scoped>\n",
              "    .dataframe tbody tr th:only-of-type {\n",
              "        vertical-align: middle;\n",
              "    }\n",
              "\n",
              "    .dataframe tbody tr th {\n",
              "        vertical-align: top;\n",
              "    }\n",
              "\n",
              "    .dataframe thead th {\n",
              "        text-align: right;\n",
              "    }\n",
              "</style>\n",
              "<table border=\"1\" class=\"dataframe\">\n",
              "  <thead>\n",
              "    <tr style=\"text-align: right;\">\n",
              "      <th></th>\n",
              "      <th>gender</th>\n",
              "      <th>age</th>\n",
              "      <th>hypertension</th>\n",
              "      <th>heart_disease</th>\n",
              "      <th>ever_married</th>\n",
              "      <th>work_type</th>\n",
              "      <th>Residence_type</th>\n",
              "      <th>avg_glucose_level</th>\n",
              "      <th>bmi</th>\n",
              "      <th>smoking_status</th>\n",
              "      <th>stroke</th>\n",
              "    </tr>\n",
              "  </thead>\n",
              "  <tbody>\n",
              "    <tr>\n",
              "      <th>0</th>\n",
              "      <td>Male</td>\n",
              "      <td>67.0</td>\n",
              "      <td>0</td>\n",
              "      <td>1</td>\n",
              "      <td>Yes</td>\n",
              "      <td>Private</td>\n",
              "      <td>Urban</td>\n",
              "      <td>228.69</td>\n",
              "      <td>36.6</td>\n",
              "      <td>formerly smoked</td>\n",
              "      <td>1</td>\n",
              "    </tr>\n",
              "    <tr>\n",
              "      <th>1</th>\n",
              "      <td>Female</td>\n",
              "      <td>61.0</td>\n",
              "      <td>0</td>\n",
              "      <td>0</td>\n",
              "      <td>Yes</td>\n",
              "      <td>Self-employed</td>\n",
              "      <td>Rural</td>\n",
              "      <td>202.21</td>\n",
              "      <td>NaN</td>\n",
              "      <td>never smoked</td>\n",
              "      <td>1</td>\n",
              "    </tr>\n",
              "    <tr>\n",
              "      <th>2</th>\n",
              "      <td>Male</td>\n",
              "      <td>80.0</td>\n",
              "      <td>0</td>\n",
              "      <td>1</td>\n",
              "      <td>Yes</td>\n",
              "      <td>Private</td>\n",
              "      <td>Rural</td>\n",
              "      <td>105.92</td>\n",
              "      <td>32.5</td>\n",
              "      <td>never smoked</td>\n",
              "      <td>1</td>\n",
              "    </tr>\n",
              "    <tr>\n",
              "      <th>3</th>\n",
              "      <td>Female</td>\n",
              "      <td>49.0</td>\n",
              "      <td>0</td>\n",
              "      <td>0</td>\n",
              "      <td>Yes</td>\n",
              "      <td>Private</td>\n",
              "      <td>Urban</td>\n",
              "      <td>171.23</td>\n",
              "      <td>34.4</td>\n",
              "      <td>smokes</td>\n",
              "      <td>1</td>\n",
              "    </tr>\n",
              "    <tr>\n",
              "      <th>4</th>\n",
              "      <td>Female</td>\n",
              "      <td>79.0</td>\n",
              "      <td>1</td>\n",
              "      <td>0</td>\n",
              "      <td>Yes</td>\n",
              "      <td>Self-employed</td>\n",
              "      <td>Rural</td>\n",
              "      <td>174.12</td>\n",
              "      <td>24.0</td>\n",
              "      <td>never smoked</td>\n",
              "      <td>1</td>\n",
              "    </tr>\n",
              "    <tr>\n",
              "      <th>...</th>\n",
              "      <td>...</td>\n",
              "      <td>...</td>\n",
              "      <td>...</td>\n",
              "      <td>...</td>\n",
              "      <td>...</td>\n",
              "      <td>...</td>\n",
              "      <td>...</td>\n",
              "      <td>...</td>\n",
              "      <td>...</td>\n",
              "      <td>...</td>\n",
              "      <td>...</td>\n",
              "    </tr>\n",
              "    <tr>\n",
              "      <th>5105</th>\n",
              "      <td>Female</td>\n",
              "      <td>80.0</td>\n",
              "      <td>1</td>\n",
              "      <td>0</td>\n",
              "      <td>Yes</td>\n",
              "      <td>Private</td>\n",
              "      <td>Urban</td>\n",
              "      <td>83.75</td>\n",
              "      <td>NaN</td>\n",
              "      <td>never smoked</td>\n",
              "      <td>0</td>\n",
              "    </tr>\n",
              "    <tr>\n",
              "      <th>5106</th>\n",
              "      <td>Female</td>\n",
              "      <td>81.0</td>\n",
              "      <td>0</td>\n",
              "      <td>0</td>\n",
              "      <td>Yes</td>\n",
              "      <td>Self-employed</td>\n",
              "      <td>Urban</td>\n",
              "      <td>125.20</td>\n",
              "      <td>40.0</td>\n",
              "      <td>never smoked</td>\n",
              "      <td>0</td>\n",
              "    </tr>\n",
              "    <tr>\n",
              "      <th>5107</th>\n",
              "      <td>Female</td>\n",
              "      <td>35.0</td>\n",
              "      <td>0</td>\n",
              "      <td>0</td>\n",
              "      <td>Yes</td>\n",
              "      <td>Self-employed</td>\n",
              "      <td>Rural</td>\n",
              "      <td>82.99</td>\n",
              "      <td>30.6</td>\n",
              "      <td>never smoked</td>\n",
              "      <td>0</td>\n",
              "    </tr>\n",
              "    <tr>\n",
              "      <th>5108</th>\n",
              "      <td>Male</td>\n",
              "      <td>51.0</td>\n",
              "      <td>0</td>\n",
              "      <td>0</td>\n",
              "      <td>Yes</td>\n",
              "      <td>Private</td>\n",
              "      <td>Rural</td>\n",
              "      <td>166.29</td>\n",
              "      <td>25.6</td>\n",
              "      <td>formerly smoked</td>\n",
              "      <td>0</td>\n",
              "    </tr>\n",
              "    <tr>\n",
              "      <th>5109</th>\n",
              "      <td>Female</td>\n",
              "      <td>44.0</td>\n",
              "      <td>0</td>\n",
              "      <td>0</td>\n",
              "      <td>Yes</td>\n",
              "      <td>Govt_job</td>\n",
              "      <td>Urban</td>\n",
              "      <td>85.28</td>\n",
              "      <td>26.2</td>\n",
              "      <td>Unknown</td>\n",
              "      <td>0</td>\n",
              "    </tr>\n",
              "  </tbody>\n",
              "</table>\n",
              "<p>5110 rows × 11 columns</p>\n",
              "</div>"
            ],
            "text/plain": [
              "      gender   age  hypertension  ...   bmi   smoking_status stroke\n",
              "0       Male  67.0             0  ...  36.6  formerly smoked      1\n",
              "1     Female  61.0             0  ...   NaN     never smoked      1\n",
              "2       Male  80.0             0  ...  32.5     never smoked      1\n",
              "3     Female  49.0             0  ...  34.4           smokes      1\n",
              "4     Female  79.0             1  ...  24.0     never smoked      1\n",
              "...      ...   ...           ...  ...   ...              ...    ...\n",
              "5105  Female  80.0             1  ...   NaN     never smoked      0\n",
              "5106  Female  81.0             0  ...  40.0     never smoked      0\n",
              "5107  Female  35.0             0  ...  30.6     never smoked      0\n",
              "5108    Male  51.0             0  ...  25.6  formerly smoked      0\n",
              "5109  Female  44.0             0  ...  26.2          Unknown      0\n",
              "\n",
              "[5110 rows x 11 columns]"
            ]
          },
          "metadata": {
            "tags": []
          },
          "execution_count": 98
        }
      ]
    },
    {
      "cell_type": "markdown",
      "metadata": {
        "id": "V4KEuvgeNuMm"
      },
      "source": [
        "# Comment:\n",
        "### Dataset, after Dropping id column "
      ]
    },
    {
      "cell_type": "markdown",
      "metadata": {
        "id": "UChAmQjZ2xmo"
      },
      "source": [
        "## Cleaning the data (15)\n",
        "\n",
        "\n",
        "1.   Check for missing values in your data\n",
        "2.   Based on the missing data, drop if:\n",
        "\n",
        "      *   there is any column with all Nans\n",
        "      *   any rows with all Nans\n",
        "\n",
        "3.   Now, use a mathod to handle rest of the missing values. Also, please justify why you adopted any particular method.\n",
        "(ref: https://www.kaggle.com/alexisbcook/handling-missing-values)\n",
        "4.   If the target column has any other values other than numeric 0 and 1, convert it to numeric values. \n",
        "\n",
        "\n",
        "\n",
        "\n",
        "\n",
        "\n",
        "\n",
        "\n"
      ]
    },
    {
      "cell_type": "code",
      "metadata": {
        "id": "vd5szbG85Eck",
        "colab": {
          "base_uri": "https://localhost:8080/"
        },
        "outputId": "f8186abf-df72-4ad9-d364-deca9baefc0d"
      },
      "source": [
        "#missing_value=[\"N/a\",\"na\", np.nan]\n",
        "#df_m_value = pd.read_csv(\"healthcare-dataset-stroke-data.csv\", na_values=missing_value)\n",
        "#df_m_value.isnull().sum()\n",
        "df_copied.isnull().sum() # checking, missing value in my dataset and calculating sum of the missing value"
      ],
      "execution_count": null,
      "outputs": [
        {
          "output_type": "execute_result",
          "data": {
            "text/plain": [
              "gender                 0\n",
              "age                    0\n",
              "hypertension           0\n",
              "heart_disease          0\n",
              "ever_married           0\n",
              "work_type              0\n",
              "Residence_type         0\n",
              "avg_glucose_level      0\n",
              "bmi                  201\n",
              "smoking_status         0\n",
              "stroke                 0\n",
              "dtype: int64"
            ]
          },
          "metadata": {
            "tags": []
          },
          "execution_count": 99
        }
      ]
    },
    {
      "cell_type": "markdown",
      "metadata": {
        "id": "xRb4jet3Ofu9"
      },
      "source": [
        "# Comment:\n",
        "### After calculating here we get 201 missing for only \"bmi\" column"
      ]
    },
    {
      "cell_type": "code",
      "metadata": {
        "colab": {
          "base_uri": "https://localhost:8080/"
        },
        "id": "64x-MYVb7vM6",
        "outputId": "542f244c-1a56-40c5-d197-0dae1c1227a7"
      },
      "source": [
        "df_copied.isnull().any()"
      ],
      "execution_count": null,
      "outputs": [
        {
          "output_type": "execute_result",
          "data": {
            "text/plain": [
              "gender               False\n",
              "age                  False\n",
              "hypertension         False\n",
              "heart_disease        False\n",
              "ever_married         False\n",
              "work_type            False\n",
              "Residence_type       False\n",
              "avg_glucose_level    False\n",
              "bmi                   True\n",
              "smoking_status       False\n",
              "stroke               False\n",
              "dtype: bool"
            ]
          },
          "metadata": {
            "tags": []
          },
          "execution_count": 100
        }
      ]
    },
    {
      "cell_type": "code",
      "metadata": {
        "colab": {
          "base_uri": "https://localhost:8080/"
        },
        "id": "RdL1NSrgVu6w",
        "outputId": "05ea162e-9ec5-4876-e18b-e7417eadc336"
      },
      "source": [
        "#df_m_value.isnull().any()\n",
        "df_dropped= df_copied.interpolate() # handling missing value( drop the all missing  value and adopted in interpolate method)\n",
        "\n",
        "df_dropped.isnull().sum() #After dropping missing shoing we don't have any mising value\n",
        "#df_dropped.describe()\n"
      ],
      "execution_count": null,
      "outputs": [
        {
          "output_type": "execute_result",
          "data": {
            "text/plain": [
              "gender               0\n",
              "age                  0\n",
              "hypertension         0\n",
              "heart_disease        0\n",
              "ever_married         0\n",
              "work_type            0\n",
              "Residence_type       0\n",
              "avg_glucose_level    0\n",
              "bmi                  0\n",
              "smoking_status       0\n",
              "stroke               0\n",
              "dtype: int64"
            ]
          },
          "metadata": {
            "tags": []
          },
          "execution_count": 102
        }
      ]
    },
    {
      "cell_type": "markdown",
      "metadata": {
        "id": "cw9YD0cIQO4V"
      },
      "source": [
        "# Comment:\n",
        "### we have used interpolate method, which makes mean value counting from its previous and the next value  for all the missing values as mean value impacts more in accuracy calculation than numeric values.we also could take 0 or 1 for missing values but 0 or 1 makes near no impact on calculation."
      ]
    },
    {
      "cell_type": "code",
      "metadata": {
        "colab": {
          "base_uri": "https://localhost:8080/",
          "height": 284
        },
        "id": "-M1-W2zR8HEx",
        "outputId": "72c38b86-8876-4599-ffbb-b09be997540c"
      },
      "source": [
        "df_dropped.describe() #describing the dataset"
      ],
      "execution_count": null,
      "outputs": [
        {
          "output_type": "execute_result",
          "data": {
            "text/html": [
              "<div>\n",
              "<style scoped>\n",
              "    .dataframe tbody tr th:only-of-type {\n",
              "        vertical-align: middle;\n",
              "    }\n",
              "\n",
              "    .dataframe tbody tr th {\n",
              "        vertical-align: top;\n",
              "    }\n",
              "\n",
              "    .dataframe thead th {\n",
              "        text-align: right;\n",
              "    }\n",
              "</style>\n",
              "<table border=\"1\" class=\"dataframe\">\n",
              "  <thead>\n",
              "    <tr style=\"text-align: right;\">\n",
              "      <th></th>\n",
              "      <th>age</th>\n",
              "      <th>hypertension</th>\n",
              "      <th>heart_disease</th>\n",
              "      <th>avg_glucose_level</th>\n",
              "      <th>bmi</th>\n",
              "      <th>stroke</th>\n",
              "    </tr>\n",
              "  </thead>\n",
              "  <tbody>\n",
              "    <tr>\n",
              "      <th>count</th>\n",
              "      <td>5110.000000</td>\n",
              "      <td>5110.000000</td>\n",
              "      <td>5110.000000</td>\n",
              "      <td>5110.000000</td>\n",
              "      <td>5110.00000</td>\n",
              "      <td>5110.000000</td>\n",
              "    </tr>\n",
              "    <tr>\n",
              "      <th>mean</th>\n",
              "      <td>43.226614</td>\n",
              "      <td>0.097456</td>\n",
              "      <td>0.054012</td>\n",
              "      <td>106.147677</td>\n",
              "      <td>28.92728</td>\n",
              "      <td>0.048728</td>\n",
              "    </tr>\n",
              "    <tr>\n",
              "      <th>std</th>\n",
              "      <td>22.612647</td>\n",
              "      <td>0.296607</td>\n",
              "      <td>0.226063</td>\n",
              "      <td>45.283560</td>\n",
              "      <td>7.77531</td>\n",
              "      <td>0.215320</td>\n",
              "    </tr>\n",
              "    <tr>\n",
              "      <th>min</th>\n",
              "      <td>0.080000</td>\n",
              "      <td>0.000000</td>\n",
              "      <td>0.000000</td>\n",
              "      <td>55.120000</td>\n",
              "      <td>10.30000</td>\n",
              "      <td>0.000000</td>\n",
              "    </tr>\n",
              "    <tr>\n",
              "      <th>25%</th>\n",
              "      <td>25.000000</td>\n",
              "      <td>0.000000</td>\n",
              "      <td>0.000000</td>\n",
              "      <td>77.245000</td>\n",
              "      <td>23.60000</td>\n",
              "      <td>0.000000</td>\n",
              "    </tr>\n",
              "    <tr>\n",
              "      <th>50%</th>\n",
              "      <td>45.000000</td>\n",
              "      <td>0.000000</td>\n",
              "      <td>0.000000</td>\n",
              "      <td>91.885000</td>\n",
              "      <td>28.10000</td>\n",
              "      <td>0.000000</td>\n",
              "    </tr>\n",
              "    <tr>\n",
              "      <th>75%</th>\n",
              "      <td>61.000000</td>\n",
              "      <td>0.000000</td>\n",
              "      <td>0.000000</td>\n",
              "      <td>114.090000</td>\n",
              "      <td>33.10000</td>\n",
              "      <td>0.000000</td>\n",
              "    </tr>\n",
              "    <tr>\n",
              "      <th>max</th>\n",
              "      <td>82.000000</td>\n",
              "      <td>1.000000</td>\n",
              "      <td>1.000000</td>\n",
              "      <td>271.740000</td>\n",
              "      <td>97.60000</td>\n",
              "      <td>1.000000</td>\n",
              "    </tr>\n",
              "  </tbody>\n",
              "</table>\n",
              "</div>"
            ],
            "text/plain": [
              "               age  hypertension  ...         bmi       stroke\n",
              "count  5110.000000   5110.000000  ...  5110.00000  5110.000000\n",
              "mean     43.226614      0.097456  ...    28.92728     0.048728\n",
              "std      22.612647      0.296607  ...     7.77531     0.215320\n",
              "min       0.080000      0.000000  ...    10.30000     0.000000\n",
              "25%      25.000000      0.000000  ...    23.60000     0.000000\n",
              "50%      45.000000      0.000000  ...    28.10000     0.000000\n",
              "75%      61.000000      0.000000  ...    33.10000     0.000000\n",
              "max      82.000000      1.000000  ...    97.60000     1.000000\n",
              "\n",
              "[8 rows x 6 columns]"
            ]
          },
          "metadata": {
            "tags": []
          },
          "execution_count": 104
        }
      ]
    },
    {
      "cell_type": "code",
      "metadata": {
        "colab": {
          "base_uri": "https://localhost:8080/",
          "height": 1000
        },
        "id": "uJkx0HPcXHZa",
        "outputId": "99117e45-8e9e-4c6a-d0f2-e58879c3df76"
      },
      "source": [
        "#, convert  numeric values 0,1 where  we get any other value\n",
        "df_dropped.gender[df_dropped.gender==\"Male\"]=0\n",
        "df_dropped.gender[df_dropped.gender==\"Female\"]=1\n",
        "df_dropped.gender[df_dropped.gender==\"Other\"]=2\n",
        "df_dropped.ever_married[df_dropped.ever_married==\"Yes\"]=0\n",
        "df_dropped.ever_married[df_dropped.ever_married==\"No\"]=1\n",
        "df_dropped.work_type[df_dropped.work_type=='Private']=0\n",
        "df_dropped.work_type[df_dropped.work_type=='Self-employed']=1 \n",
        "df_dropped.work_type[df_dropped.work_type=='Govt_job']=2\n",
        "df_dropped.work_type[df_dropped.work_type=='Never_worked']=3 \n",
        "df_dropped.work_type[df_dropped.work_type=='children']=3\n",
        "df_dropped.Residence_type[df_dropped.Residence_type=='Urban']=0\n",
        "df_dropped.Residence_type[df_dropped.Residence_type=='Rural']=1\n",
        "df_dropped.smoking_status[df_dropped.smoking_status=='formerly smoked']=0\n",
        "df_dropped.smoking_status[df_dropped.smoking_status=='never smoked']=1\n",
        "df_dropped.smoking_status[df_dropped.smoking_status=='smokes']=2\n",
        "df_dropped.smoking_status[df_dropped.smoking_status=='Unknown']=3\n",
        "df_dropped"
      ],
      "execution_count": null,
      "outputs": [
        {
          "output_type": "stream",
          "text": [
            "/usr/local/lib/python3.7/dist-packages/ipykernel_launcher.py:2: SettingWithCopyWarning: \n",
            "A value is trying to be set on a copy of a slice from a DataFrame\n",
            "\n",
            "See the caveats in the documentation: https://pandas.pydata.org/pandas-docs/stable/user_guide/indexing.html#returning-a-view-versus-a-copy\n",
            "  \n",
            "/usr/local/lib/python3.7/dist-packages/ipykernel_launcher.py:3: SettingWithCopyWarning: \n",
            "A value is trying to be set on a copy of a slice from a DataFrame\n",
            "\n",
            "See the caveats in the documentation: https://pandas.pydata.org/pandas-docs/stable/user_guide/indexing.html#returning-a-view-versus-a-copy\n",
            "  This is separate from the ipykernel package so we can avoid doing imports until\n",
            "/usr/local/lib/python3.7/dist-packages/ipykernel_launcher.py:4: SettingWithCopyWarning: \n",
            "A value is trying to be set on a copy of a slice from a DataFrame\n",
            "\n",
            "See the caveats in the documentation: https://pandas.pydata.org/pandas-docs/stable/user_guide/indexing.html#returning-a-view-versus-a-copy\n",
            "  after removing the cwd from sys.path.\n",
            "/usr/local/lib/python3.7/dist-packages/ipykernel_launcher.py:5: SettingWithCopyWarning: \n",
            "A value is trying to be set on a copy of a slice from a DataFrame\n",
            "\n",
            "See the caveats in the documentation: https://pandas.pydata.org/pandas-docs/stable/user_guide/indexing.html#returning-a-view-versus-a-copy\n",
            "  \"\"\"\n",
            "/usr/local/lib/python3.7/dist-packages/ipykernel_launcher.py:6: SettingWithCopyWarning: \n",
            "A value is trying to be set on a copy of a slice from a DataFrame\n",
            "\n",
            "See the caveats in the documentation: https://pandas.pydata.org/pandas-docs/stable/user_guide/indexing.html#returning-a-view-versus-a-copy\n",
            "  \n",
            "/usr/local/lib/python3.7/dist-packages/ipykernel_launcher.py:7: SettingWithCopyWarning: \n",
            "A value is trying to be set on a copy of a slice from a DataFrame\n",
            "\n",
            "See the caveats in the documentation: https://pandas.pydata.org/pandas-docs/stable/user_guide/indexing.html#returning-a-view-versus-a-copy\n",
            "  import sys\n",
            "/usr/local/lib/python3.7/dist-packages/ipykernel_launcher.py:8: SettingWithCopyWarning: \n",
            "A value is trying to be set on a copy of a slice from a DataFrame\n",
            "\n",
            "See the caveats in the documentation: https://pandas.pydata.org/pandas-docs/stable/user_guide/indexing.html#returning-a-view-versus-a-copy\n",
            "  \n",
            "/usr/local/lib/python3.7/dist-packages/ipykernel_launcher.py:9: SettingWithCopyWarning: \n",
            "A value is trying to be set on a copy of a slice from a DataFrame\n",
            "\n",
            "See the caveats in the documentation: https://pandas.pydata.org/pandas-docs/stable/user_guide/indexing.html#returning-a-view-versus-a-copy\n",
            "  if __name__ == '__main__':\n",
            "/usr/local/lib/python3.7/dist-packages/ipykernel_launcher.py:10: SettingWithCopyWarning: \n",
            "A value is trying to be set on a copy of a slice from a DataFrame\n",
            "\n",
            "See the caveats in the documentation: https://pandas.pydata.org/pandas-docs/stable/user_guide/indexing.html#returning-a-view-versus-a-copy\n",
            "  # Remove the CWD from sys.path while we load stuff.\n",
            "/usr/local/lib/python3.7/dist-packages/ipykernel_launcher.py:11: SettingWithCopyWarning: \n",
            "A value is trying to be set on a copy of a slice from a DataFrame\n",
            "\n",
            "See the caveats in the documentation: https://pandas.pydata.org/pandas-docs/stable/user_guide/indexing.html#returning-a-view-versus-a-copy\n",
            "  # This is added back by InteractiveShellApp.init_path()\n",
            "/usr/local/lib/python3.7/dist-packages/ipykernel_launcher.py:12: SettingWithCopyWarning: \n",
            "A value is trying to be set on a copy of a slice from a DataFrame\n",
            "\n",
            "See the caveats in the documentation: https://pandas.pydata.org/pandas-docs/stable/user_guide/indexing.html#returning-a-view-versus-a-copy\n",
            "  if sys.path[0] == '':\n",
            "/usr/local/lib/python3.7/dist-packages/ipykernel_launcher.py:13: SettingWithCopyWarning: \n",
            "A value is trying to be set on a copy of a slice from a DataFrame\n",
            "\n",
            "See the caveats in the documentation: https://pandas.pydata.org/pandas-docs/stable/user_guide/indexing.html#returning-a-view-versus-a-copy\n",
            "  del sys.path[0]\n",
            "/usr/local/lib/python3.7/dist-packages/ipykernel_launcher.py:14: SettingWithCopyWarning: \n",
            "A value is trying to be set on a copy of a slice from a DataFrame\n",
            "\n",
            "See the caveats in the documentation: https://pandas.pydata.org/pandas-docs/stable/user_guide/indexing.html#returning-a-view-versus-a-copy\n",
            "  \n",
            "/usr/local/lib/python3.7/dist-packages/ipykernel_launcher.py:15: SettingWithCopyWarning: \n",
            "A value is trying to be set on a copy of a slice from a DataFrame\n",
            "\n",
            "See the caveats in the documentation: https://pandas.pydata.org/pandas-docs/stable/user_guide/indexing.html#returning-a-view-versus-a-copy\n",
            "  from ipykernel import kernelapp as app\n",
            "/usr/local/lib/python3.7/dist-packages/ipykernel_launcher.py:16: SettingWithCopyWarning: \n",
            "A value is trying to be set on a copy of a slice from a DataFrame\n",
            "\n",
            "See the caveats in the documentation: https://pandas.pydata.org/pandas-docs/stable/user_guide/indexing.html#returning-a-view-versus-a-copy\n",
            "  app.launch_new_instance()\n",
            "/usr/local/lib/python3.7/dist-packages/ipykernel_launcher.py:17: SettingWithCopyWarning: \n",
            "A value is trying to be set on a copy of a slice from a DataFrame\n",
            "\n",
            "See the caveats in the documentation: https://pandas.pydata.org/pandas-docs/stable/user_guide/indexing.html#returning-a-view-versus-a-copy\n"
          ],
          "name": "stderr"
        },
        {
          "output_type": "execute_result",
          "data": {
            "text/html": [
              "<div>\n",
              "<style scoped>\n",
              "    .dataframe tbody tr th:only-of-type {\n",
              "        vertical-align: middle;\n",
              "    }\n",
              "\n",
              "    .dataframe tbody tr th {\n",
              "        vertical-align: top;\n",
              "    }\n",
              "\n",
              "    .dataframe thead th {\n",
              "        text-align: right;\n",
              "    }\n",
              "</style>\n",
              "<table border=\"1\" class=\"dataframe\">\n",
              "  <thead>\n",
              "    <tr style=\"text-align: right;\">\n",
              "      <th></th>\n",
              "      <th>gender</th>\n",
              "      <th>age</th>\n",
              "      <th>hypertension</th>\n",
              "      <th>heart_disease</th>\n",
              "      <th>ever_married</th>\n",
              "      <th>work_type</th>\n",
              "      <th>Residence_type</th>\n",
              "      <th>avg_glucose_level</th>\n",
              "      <th>bmi</th>\n",
              "      <th>smoking_status</th>\n",
              "      <th>stroke</th>\n",
              "    </tr>\n",
              "  </thead>\n",
              "  <tbody>\n",
              "    <tr>\n",
              "      <th>0</th>\n",
              "      <td>0</td>\n",
              "      <td>67.0</td>\n",
              "      <td>0</td>\n",
              "      <td>1</td>\n",
              "      <td>0</td>\n",
              "      <td>0</td>\n",
              "      <td>0</td>\n",
              "      <td>228.69</td>\n",
              "      <td>36.60</td>\n",
              "      <td>0</td>\n",
              "      <td>1</td>\n",
              "    </tr>\n",
              "    <tr>\n",
              "      <th>1</th>\n",
              "      <td>1</td>\n",
              "      <td>61.0</td>\n",
              "      <td>0</td>\n",
              "      <td>0</td>\n",
              "      <td>0</td>\n",
              "      <td>1</td>\n",
              "      <td>1</td>\n",
              "      <td>202.21</td>\n",
              "      <td>34.55</td>\n",
              "      <td>1</td>\n",
              "      <td>1</td>\n",
              "    </tr>\n",
              "    <tr>\n",
              "      <th>2</th>\n",
              "      <td>0</td>\n",
              "      <td>80.0</td>\n",
              "      <td>0</td>\n",
              "      <td>1</td>\n",
              "      <td>0</td>\n",
              "      <td>0</td>\n",
              "      <td>1</td>\n",
              "      <td>105.92</td>\n",
              "      <td>32.50</td>\n",
              "      <td>1</td>\n",
              "      <td>1</td>\n",
              "    </tr>\n",
              "    <tr>\n",
              "      <th>3</th>\n",
              "      <td>1</td>\n",
              "      <td>49.0</td>\n",
              "      <td>0</td>\n",
              "      <td>0</td>\n",
              "      <td>0</td>\n",
              "      <td>0</td>\n",
              "      <td>0</td>\n",
              "      <td>171.23</td>\n",
              "      <td>34.40</td>\n",
              "      <td>2</td>\n",
              "      <td>1</td>\n",
              "    </tr>\n",
              "    <tr>\n",
              "      <th>4</th>\n",
              "      <td>1</td>\n",
              "      <td>79.0</td>\n",
              "      <td>1</td>\n",
              "      <td>0</td>\n",
              "      <td>0</td>\n",
              "      <td>1</td>\n",
              "      <td>1</td>\n",
              "      <td>174.12</td>\n",
              "      <td>24.00</td>\n",
              "      <td>1</td>\n",
              "      <td>1</td>\n",
              "    </tr>\n",
              "    <tr>\n",
              "      <th>...</th>\n",
              "      <td>...</td>\n",
              "      <td>...</td>\n",
              "      <td>...</td>\n",
              "      <td>...</td>\n",
              "      <td>...</td>\n",
              "      <td>...</td>\n",
              "      <td>...</td>\n",
              "      <td>...</td>\n",
              "      <td>...</td>\n",
              "      <td>...</td>\n",
              "      <td>...</td>\n",
              "    </tr>\n",
              "    <tr>\n",
              "      <th>5105</th>\n",
              "      <td>1</td>\n",
              "      <td>80.0</td>\n",
              "      <td>1</td>\n",
              "      <td>0</td>\n",
              "      <td>0</td>\n",
              "      <td>0</td>\n",
              "      <td>0</td>\n",
              "      <td>83.75</td>\n",
              "      <td>29.30</td>\n",
              "      <td>1</td>\n",
              "      <td>0</td>\n",
              "    </tr>\n",
              "    <tr>\n",
              "      <th>5106</th>\n",
              "      <td>1</td>\n",
              "      <td>81.0</td>\n",
              "      <td>0</td>\n",
              "      <td>0</td>\n",
              "      <td>0</td>\n",
              "      <td>1</td>\n",
              "      <td>0</td>\n",
              "      <td>125.20</td>\n",
              "      <td>40.00</td>\n",
              "      <td>1</td>\n",
              "      <td>0</td>\n",
              "    </tr>\n",
              "    <tr>\n",
              "      <th>5107</th>\n",
              "      <td>1</td>\n",
              "      <td>35.0</td>\n",
              "      <td>0</td>\n",
              "      <td>0</td>\n",
              "      <td>0</td>\n",
              "      <td>1</td>\n",
              "      <td>1</td>\n",
              "      <td>82.99</td>\n",
              "      <td>30.60</td>\n",
              "      <td>1</td>\n",
              "      <td>0</td>\n",
              "    </tr>\n",
              "    <tr>\n",
              "      <th>5108</th>\n",
              "      <td>0</td>\n",
              "      <td>51.0</td>\n",
              "      <td>0</td>\n",
              "      <td>0</td>\n",
              "      <td>0</td>\n",
              "      <td>0</td>\n",
              "      <td>1</td>\n",
              "      <td>166.29</td>\n",
              "      <td>25.60</td>\n",
              "      <td>0</td>\n",
              "      <td>0</td>\n",
              "    </tr>\n",
              "    <tr>\n",
              "      <th>5109</th>\n",
              "      <td>1</td>\n",
              "      <td>44.0</td>\n",
              "      <td>0</td>\n",
              "      <td>0</td>\n",
              "      <td>0</td>\n",
              "      <td>2</td>\n",
              "      <td>0</td>\n",
              "      <td>85.28</td>\n",
              "      <td>26.20</td>\n",
              "      <td>3</td>\n",
              "      <td>0</td>\n",
              "    </tr>\n",
              "  </tbody>\n",
              "</table>\n",
              "<p>5110 rows × 11 columns</p>\n",
              "</div>"
            ],
            "text/plain": [
              "     gender   age  hypertension  ...    bmi smoking_status stroke\n",
              "0         0  67.0             0  ...  36.60              0      1\n",
              "1         1  61.0             0  ...  34.55              1      1\n",
              "2         0  80.0             0  ...  32.50              1      1\n",
              "3         1  49.0             0  ...  34.40              2      1\n",
              "4         1  79.0             1  ...  24.00              1      1\n",
              "...     ...   ...           ...  ...    ...            ...    ...\n",
              "5105      1  80.0             1  ...  29.30              1      0\n",
              "5106      1  81.0             0  ...  40.00              1      0\n",
              "5107      1  35.0             0  ...  30.60              1      0\n",
              "5108      0  51.0             0  ...  25.60              0      0\n",
              "5109      1  44.0             0  ...  26.20              3      0\n",
              "\n",
              "[5110 rows x 11 columns]"
            ]
          },
          "metadata": {
            "tags": []
          },
          "execution_count": 105
        }
      ]
    },
    {
      "cell_type": "markdown",
      "metadata": {
        "id": "T9s1lrKvVTEw"
      },
      "source": [
        "# Comment: \n",
        "### After converting numaric value then my dataset look like this."
      ]
    },
    {
      "cell_type": "markdown",
      "metadata": {
        "id": "Oi80vHGB5D6c"
      },
      "source": [
        "## Preliminery data exploration (15)\n",
        "1.   Take some of your columns to compare/explore \n",
        "for example: \n",
        "          *   plot heart attack based on age\n",
        "          *   plot heart attack based on sex (these are just exaples, you can compare other factors like blood suger etc.)\n",
        "          (ref: https://www.kaggle.com/venugopalkadamba/heart-attack-eda-visualizations-prediction)\n",
        "          * plot stroke based on gender\n",
        "          * plot stroke based on age\n",
        "          (ref: https://www.kaggle.com/shivayunamdev/data-visualisation-and-eda?scriptVersionId=63062210&cellId=10)\n",
        "          * compare temperature with raintoday/tomorrow\n",
        "          * compare pressure with raintoday/tomorrow\n",
        "          (ref: https://www.kaggle.com/wwwarpit/eda-and-modelling?scriptVersionId=63026388&cellId=53)\n",
        "\n"
      ]
    },
    {
      "cell_type": "code",
      "metadata": {
        "id": "xyTl5Qp70JIY"
      },
      "source": [
        "def numeric_eda(df_dropped, hue=None):\n",
        "    \"\"\"Given dataframe, generate EDA of numeric data\"\"\"\n",
        "    print(\"\\nTo check: \\nDistribution of numeric data\")\n",
        "    display(df_dropped.describe().T)\n",
        "    columns = df_dropped.select_dtypes(include=np.number).columns\n",
        "    figure = plt.figure(figsize=(20, 10))\n",
        "    figure.add_subplot(1, len(columns), 1)\n",
        "    for index, col in enumerate(columns):\n",
        "        if index > 0:\n",
        "            figure.add_subplot(1, len(columns), index + 1)\n",
        "        sns.boxplot(y=col, data=df_dropped, boxprops={'facecolor': 'None'})\n",
        "    figure.tight_layout()\n",
        "    plt.show()\n",
        "    \n",
        "    if len(df_dropped.select_dtypes(include='category').columns) > 0:\n",
        "        for col_num in df_dropped.select_dtypes(include=np.number).columns:\n",
        "            for col in df_dropped.select_dtypes(include='category').columns:\n",
        "                fig = sns.catplot(x=col, y=col_num, kind='violin', data=df, height=5, aspect=2)\n",
        "                fig.set_xticklabels(rotation=90)\n",
        "                plt.show()\n",
        "    \n",
        "    # Plot the pairwise joint distributions\n",
        "    print(\"\\nTo check pairwise joint distribution of numeric data\")\n",
        "    if hue==None:\n",
        "        sns.pairplot(df_dropped.select_dtypes(include=np.number))\n",
        "    else:\n",
        "        sns.pairplot(df_dropped.select_dtypes(include=np.number).join(df[[hue]]), hue=hue)\n",
        "    plt.show()\n",
        "\n",
        "\n",
        "def top5(df):\n",
        "    \"\"\"Given dataframe, generate top 5 unique values for non-numeric data\"\"\"\n",
        "    columns = df_dropped.select_dtypes(include=['object', 'category']).columns\n",
        "    for col in columns:\n",
        "        print(\"Top 5 unique values of \" + col)\n",
        "        print(df_dropped[col].value_counts().reset_index().rename(columns={\"index\": col, col: \"Count\"})[\n",
        "              :min(5, len(df[col].value_counts()))])\n",
        "        print(\" \")\n",
        "    \n",
        "    \n",
        "def categorical_eda(df_dropped, hue=None):\n",
        "    \"\"\"Given dataframe, generate EDA of categorical data\"\"\"\n",
        "    print(\"\\nTo check: \\nUnique count of non-numeric data\\n\")\n",
        "    print(df_dropped.select_dtypes(include=['object', 'category']).nunique())\n",
        "    top5(df_dropped)\n",
        "    # Plot count distribution of categorical data\n",
        "    for col in df_dropped.select_dtypes(include='category').columns:\n",
        "        fig = sns.catplot(x=col, kind=\"count\", data=df_dropped, hue=hue)\n",
        "        fig.set_xticklabels(rotation=90)\n",
        "        plt.show()\n",
        "    \n",
        "\n",
        "def eda(df):\n",
        "    \"\"\"Given dataframe, generate exploratory data analysis\"\"\"\n",
        "    # check that input is pandas dataframe\n",
        "    if type(df_dropped) != pd.core.frame.DataFrame:\n",
        "        raise TypeError(\"Only pandas dataframe is allowed as input\")\n",
        "        \n",
        "    # replace field that's entirely space (or empty) with NaN\n",
        "    df_dropped = df_dropped.replace(r'^\\s*$', np.nan, regex=True)\n",
        "\n",
        "    print(\"Preview of data:\")\n",
        "    display(df.head(3))\n",
        "\n",
        "    print(\"\\nTo check: \\n (1) Total number of entries \\n (2) Column types \\n (3) Any null values\\n\")\n",
        "    print(df_dropped.info())\n",
        "\n",
        "    # generate preview of entries with null values\n",
        "    if df_dropped.isnull().any(axis=None):\n",
        "        print(\"\\nPreview of data with null values:\")\n",
        "        display(df_dropped[df_dropped.isnull().any(axis=1)].head(3))\n",
        "        missingno.matrix(df_dropped)\n",
        "        plt.show()\n",
        "\n",
        "    # generate count statistics of duplicate entries\n",
        "    if len(df_dropped[df_dropped.duplicated()]) > 0:\n",
        "        print(\"\\n***Number of duplicated entries: \", len(df_dropped[df_dropped.duplicated()]))\n",
        "        display(df_dropped[df_dropped.duplicated(keep=False)].sort_values(by=list(df.columns)).head())\n",
        "    else:\n",
        "        print(\"\\nNo duplicated entries found\")"
      ],
      "execution_count": null,
      "outputs": []
    },
    {
      "cell_type": "markdown",
      "metadata": {
        "id": "C1xkk-VHo8rI"
      },
      "source": [
        "## Ref link: https://www.wordclouds.com/"
      ]
    },
    {
      "cell_type": "code",
      "metadata": {
        "colab": {
          "base_uri": "https://localhost:8080/"
        },
        "id": "LmHSI2KwlXQX",
        "outputId": "ebeffc67-23f2-4b79-ab82-aa5f15232013"
      },
      "source": [
        "categorical_eda(df_dropped) # catagorical eda "
      ],
      "execution_count": null,
      "outputs": [
        {
          "output_type": "stream",
          "text": [
            "\n",
            "To check: \n",
            "Unique count of non-numeric data\n",
            "\n",
            "gender            3\n",
            "ever_married      2\n",
            "work_type         4\n",
            "Residence_type    2\n",
            "smoking_status    4\n",
            "dtype: int64\n",
            "Top 5 unique values of gender\n",
            "   gender  Count\n",
            "0       1   2994\n",
            "1       0   2115\n",
            "2       2      1\n",
            " \n",
            "Top 5 unique values of ever_married\n",
            "   ever_married  Count\n",
            "0             0   3353\n",
            "1             1   1757\n",
            " \n",
            "Top 5 unique values of work_type\n",
            "   work_type  Count\n",
            "0          0   2925\n",
            "1          1    819\n",
            "2          3    709\n",
            "3          2    657\n",
            " \n",
            "Top 5 unique values of Residence_type\n",
            "   Residence_type  Count\n",
            "0               0   2596\n",
            "1               1   2514\n",
            " \n",
            "Top 5 unique values of smoking_status\n",
            "   smoking_status  Count\n",
            "0               1   1892\n",
            "1               3   1544\n",
            "2               0    885\n",
            "3               2    789\n",
            " \n"
          ],
          "name": "stdout"
        }
      ]
    },
    {
      "cell_type": "markdown",
      "metadata": {
        "id": "QO_p_Wq50UzO"
      },
      "source": [
        "## Comment: here frist evalution data analysis on my data set then describe the top five uniqu value on my dataset."
      ]
    },
    {
      "cell_type": "code",
      "metadata": {
        "colab": {
          "base_uri": "https://localhost:8080/",
          "height": 315
        },
        "id": "ZTy7X_jpid4t",
        "outputId": "19c73cbb-a9a4-4fa6-d352-37e22959c0a1"
      },
      "source": [
        "val_counts = df_dropped[\"stroke\"].value_counts()\n",
        "no_Stroke = (val_counts[0] / df_dropped.shape[0]) * 100\n",
        "Stroke = (val_counts[1] / df_dropped.shape[0]) * 100\n",
        "\n",
        "print(f\"Stroke: {math.floor(Stroke)}%\")\n",
        "print(f\"No Stroke: {math.ceil(no_Stroke)}%\")\n",
        "\n",
        "print()\n",
        "\n",
        "sns.barplot(x = [\"No Stroke\", \"Stroke\"], y = [no_Stroke, Stroke])\n",
        "plt.show()"
      ],
      "execution_count": null,
      "outputs": [
        {
          "output_type": "stream",
          "text": [
            "Stroke: 4%\n",
            "No Stroke: 96%\n",
            "\n"
          ],
          "name": "stdout"
        },
        {
          "output_type": "display_data",
          "data": {
            "image/png": "[encoded data removed]",
            "text/plain": [
              "<Figure size 432x288 with 1 Axes>"
            ]
          },
          "metadata": {
            "tags": [],
            "needs_background": "light"
          }
        }
      ]
    },
    {
      "cell_type": "markdown",
      "metadata": {
        "id": "HUzcDsL5jVlN"
      },
      "source": [
        "# Comment:\n",
        "### After EDA here we showing the percetage of stroke and nonstroke and and plot it \n",
        "##  [Ref Link:](https://www.kaggle.com/venugopalkadamba/heart-attack-eda-visualizations-prediction)"
      ]
    },
    {
      "cell_type": "code",
      "metadata": {
        "colab": {
          "base_uri": "https://localhost:8080/",
          "height": 350
        },
        "id": "cAR596Wvxvp3",
        "outputId": "4994242a-1fbd-47fc-b4fe-74ed23f7f898"
      },
      "source": [
        "ax = plt.figure(figsize = (9,5))\n",
        "sns.countplot(\n",
        "    data=df_dropped,\n",
        "    x = \"hypertension\",\n",
        "    hue=\"stroke\",\n",
        ")\n",
        "plt.title(\"Distribution of Gender w.r.t Stroke Attack\")\n",
        "plt.show()"
      ],
      "execution_count": null,
      "outputs": [
        {
          "output_type": "display_data",
          "data": {
            "image/png": "[encoded data removed]",
            "text/plain": [
              "<Figure size 648x360 with 1 Axes>"
            ]
          },
          "metadata": {
            "tags": [],
            "needs_background": "light"
          }
        }
      ]
    },
    {
      "cell_type": "markdown",
      "metadata": {
        "id": "VuAb-DHEkE1F"
      },
      "source": [
        "# Comment:\n",
        "### Here we are ploting stroke data based on hypertension"
      ]
    },
    {
      "cell_type": "code",
      "metadata": {
        "colab": {
          "base_uri": "https://localhost:8080/"
        },
        "id": "4YY7qh5kIdXk",
        "outputId": "bd1f9436-cd65-42f5-faf9-1103e1cb8711"
      },
      "source": [
        "val_counts = df_dropped.groupby(\"hypertension\")[\"stroke\"].value_counts()\n",
        "nohypertension = (val_counts[1][1] /(val_counts[1][1]+val_counts[1][0]))* 100\n",
        "hypertension= (val_counts[0][1] / (val_counts[0][1]+val_counts[0][0])) * 100\n",
        "\n",
        "print(f\"Hypertention: {hypertension}%\")\n",
        "print(f\"No Hypertention: {nohypertension}%\")"
      ],
      "execution_count": null,
      "outputs": [
        {
          "output_type": "stream",
          "text": [
            "Hypertention: 3.967909800520382%\n",
            "No Hypertention: 13.253012048192772%\n"
          ],
          "name": "stdout"
        }
      ]
    },
    {
      "cell_type": "markdown",
      "metadata": {
        "id": "z9gN5GvhktV_"
      },
      "source": [
        "## Comment: Stroke percentage based on hypertension "
      ]
    },
    {
      "cell_type": "code",
      "metadata": {
        "colab": {
          "base_uri": "https://localhost:8080/"
        },
        "id": "p3iF4ebp0MGA",
        "outputId": "be5bb75e-44f3-481e-cb46-ca7cdbb329e8"
      },
      "source": [
        "val_counts = df_dropped.groupby(\"gender\")[\"stroke\"].value_counts()\n",
        "male_Stroke = (val_counts[1][1] / (val_counts[1][1]+val_counts[1][0])) * 100\n",
        "female_Stroke = (val_counts[0][1] / (val_counts[0][1]+val_counts[0][0])) * 100\n",
        "\n",
        "print(f\"Male stroke: {male_Stroke}%\")\n",
        "print(f\"Female Stoke: {female_Stroke}%\")"
      ],
      "execution_count": null,
      "outputs": [
        {
          "output_type": "stream",
          "text": [
            "Male stroke: 4.709418837675351%\n",
            "Female Stoke: 5.106382978723404%\n"
          ],
          "name": "stdout"
        }
      ]
    },
    {
      "cell_type": "markdown",
      "metadata": {
        "id": "668m2wozsU4Q"
      },
      "source": [
        "## Comment:Here we are predicting male and female stroke percentage among all the dates."
      ]
    },
    {
      "cell_type": "code",
      "metadata": {
        "colab": {
          "base_uri": "https://localhost:8080/",
          "height": 336
        },
        "id": "UGRLMBgQ0t-T",
        "outputId": "ce2e8062-eb3e-4376-8b0b-6299140f6fd4"
      },
      "source": [
        "plt.figure(figsize = (9,5))\n",
        "x = [\"Male\",\"Female\"]\n",
        "y = [male_Stroke,female_Stroke]\n",
        "plt.barh(x, y)\n",
        "  \n",
        "for index, value in enumerate(y):\n",
        "    plt.text(value, index,\n",
        "             str(value)[:4]+\"%\")\n",
        "\n",
        "plt.title(\"Gender vs Stroke\")\n",
        "plt.show()"
      ],
      "execution_count": null,
      "outputs": [
        {
          "output_type": "display_data",
          "data": {
            "image/png": "[encoded data removed]",
            "text/plain": [
              "<Figure size 648x360 with 1 Axes>"
            ]
          },
          "metadata": {
            "tags": [],
            "needs_background": "light"
          }
        }
      ]
    },
    {
      "cell_type": "markdown",
      "metadata": {
        "id": "WRIQlzIDtya8"
      },
      "source": [
        "Comment:Here we are ploting male and female stroke percentage among all the dates.\n",
        "\n",
        "Ref Link: https://www.kaggle.com/venugopalkadamba/heart-attack-eda-visualizations-prediction"
      ]
    },
    {
      "cell_type": "code",
      "metadata": {
        "colab": {
          "base_uri": "https://localhost:8080/",
          "height": 350
        },
        "id": "Dpn0FWrt2OWh",
        "outputId": "bbe36f60-606c-4293-9eaa-c22e35286b2c"
      },
      "source": [
        "ax = plt.figure(figsize = (9,5))\n",
        "sns.histplot(\n",
        "    data=df_dropped,\n",
        "    x = \"age\",\n",
        "    hue=\"stroke\",\n",
        ")\n",
        "plt.title(\"Distribution of Age w.r.t Stroke Attack\")\n",
        "plt.show()"
      ],
      "execution_count": null,
      "outputs": [
        {
          "output_type": "display_data",
          "data": {
            "image/png": "[encoded data removed]",
            "text/plain": [
              "<Figure size 648x360 with 1 Axes>"
            ]
          },
          "metadata": {
            "tags": [],
            "needs_background": "light"
          }
        }
      ]
    },
    {
      "cell_type": "markdown",
      "metadata": {
        "id": "ecNTdYsWt5O7"
      },
      "source": [
        "Comment:Here we are ploting age for stroke percentage among all the dates."
      ]
    },
    {
      "cell_type": "markdown",
      "metadata": {
        "id": "eLmE16I7_Zo3"
      },
      "source": [
        "# Classification (15+15):\n",
        "## Now choose two classification techniques."
      ]
    },
    {
      "cell_type": "markdown",
      "metadata": {
        "id": "cFYrKEX6_rgq"
      },
      "source": [
        "## preparation \n",
        "\n",
        "*   create you text train set\n",
        "*   create your classifier\n",
        "*   feed the train set into the classifier\n",
        "(you can take reference from our lab)\n",
        "\n"
      ]
    },
    {
      "cell_type": "code",
      "metadata": {
        "id": "LNg6C5Fp4Ke2"
      },
      "source": [
        "features = ['age',\n",
        " 'hypertension',\n",
        " 'heart_disease',\n",
        " 'ever_married',\n",
        " 'Residence_type',\n",
        " 'avg_glucose_level',\n",
        " 'bmi',\n",
        " 'gender',\n",
        " 'work_type',\n",
        " 'smoking_status']   #Feature of my dataset\n",
        "\n",
        "label = ['stroke'] # geting the target value\n",
        "\n",
        "X = df_dropped[features] # we only take all the  features\n",
        "y = df_dropped[label]\n",
        "X_train, X_test, y_train, y_test = train_test_split(X, y, test_size=0.4, random_state=30)"
      ],
      "execution_count": null,
      "outputs": []
    },
    {
      "cell_type": "markdown",
      "metadata": {
        "id": "fz-s-Ue3vJ1s"
      },
      "source": [
        "## Comment: Getting the all features and target value from my dataset, then creating the training set for classification"
      ]
    },
    {
      "cell_type": "code",
      "metadata": {
        "id": "FxseBHl-5EA2"
      },
      "source": [
        "\n",
        "clf = tree.DecisionTreeClassifier() # creating classificaton from decision tree\n",
        "clf = clf.fit(X_train, y_train ) # fitting the training set on decition tree\n",
        "y_pred=clf.predict(X_test) # predict the test\n"
      ],
      "execution_count": null,
      "outputs": []
    },
    {
      "cell_type": "code",
      "metadata": {
        "id": "E_BZI0Ox5D1M",
        "colab": {
          "base_uri": "https://localhost:8080/"
        },
        "outputId": "abef5031-80be-49ff-f40d-f1a191013c1b"
      },
      "source": [
        "\n",
        "\n",
        "#model = KNeighborsClassifier(n_neighbors=2)\n",
        "knn = KNeighborsClassifier(n_neighbors=2) # creating classificaton from Knn Classification\n",
        "clf1 = knn.fit(X_train,y_train) # fitting the training set on Knn Classification\n",
        "y_pred1=clf1.predict(X_test)  # predict the test\n",
        "\n",
        "\n"
      ],
      "execution_count": null,
      "outputs": [
        {
          "output_type": "stream",
          "text": [
            "/usr/local/lib/python3.7/dist-packages/ipykernel_launcher.py:5: DataConversionWarning: A column-vector y was passed when a 1d array was expected. Please change the shape of y to (n_samples, ), for example using ravel().\n",
            "  \"\"\"\n"
          ],
          "name": "stderr"
        }
      ]
    },
    {
      "cell_type": "markdown",
      "metadata": {
        "id": "rb-tyv7h6odS"
      },
      "source": [
        "Ref: Our knn Lab code used"
      ]
    },
    {
      "cell_type": "markdown",
      "metadata": {
        "id": "R1HxQYXgBI8F"
      },
      "source": [
        "# Model Evaluation (Accuracy) (15)"
      ]
    },
    {
      "cell_type": "markdown",
      "metadata": {
        "id": "1O8WtxrVAWAb"
      },
      "source": [
        "## Testing the models Accuracy\n",
        "*   feed test train data into model to check accuracy\n",
        "*   use confusion matrix for accuracy\n",
        "*   print accuracy of the model"
      ]
    },
    {
      "cell_type": "code",
      "metadata": {
        "id": "seRy6ZGrAe8K",
        "colab": {
          "base_uri": "https://localhost:8080/"
        },
        "outputId": "7a33e081-4137-4b53-c267-175611967249"
      },
      "source": [
        "print(\"Decition tree Accuracy:{0:.3f}\".format(metrics.accuracy_score(y_test,y_pred)),\"\\n\")\n",
        "print(\"Knn Classification Accuracy:{0:.3f}\".format(metrics.accuracy_score(y_test,y_pred1)),\"\\n\")\n",
        "\n",
        "\n"
      ],
      "execution_count": null,
      "outputs": [
        {
          "output_type": "stream",
          "text": [
            "Decition tree Accuracy:0.904 \n",
            "\n",
            "Knn Classification Accuracy:0.953 \n",
            "\n"
          ],
          "name": "stdout"
        }
      ]
    },
    {
      "cell_type": "markdown",
      "metadata": {
        "id": "DZ60fXUgzZ6u"
      },
      "source": [
        "## Comment: Here we are printing accuracy of both KNN and DecesionTree Classifications."
      ]
    },
    {
      "cell_type": "markdown",
      "metadata": {
        "id": "PfB3Bbns6MQl"
      },
      "source": [
        "Ref: Our knn Lab and decitson tree lab code used"
      ]
    },
    {
      "cell_type": "code",
      "metadata": {
        "colab": {
          "base_uri": "https://localhost:8080/"
        },
        "id": "PI0nJOdI4XmB",
        "outputId": "f8360199-c69c-49b3-c49e-9623bcc9b3c4"
      },
      "source": [
        "confusion_matrix( y_test,y_pred, labels=[1,0]) #confusion matrix for Decition tree"
      ],
      "execution_count": null,
      "outputs": [
        {
          "output_type": "execute_result",
          "data": {
            "text/plain": [
              "array([[  18,   68],\n",
              "       [ 128, 1830]])"
            ]
          },
          "metadata": {
            "tags": []
          },
          "execution_count": 140
        }
      ]
    },
    {
      "cell_type": "markdown",
      "metadata": {
        "id": "PDEJC9TD5EEU"
      },
      "source": [
        "Source: Youtube Video,"
      ]
    },
    {
      "cell_type": "code",
      "metadata": {
        "colab": {
          "base_uri": "https://localhost:8080/"
        },
        "id": "P6UaELMh4BQk",
        "outputId": "95de2cb0-ea5b-4dec-f7e0-c2cfcfa1bbb8"
      },
      "source": [
        "\n",
        "tn, fp, fn, tp=confusion_matrix( y_test,y_pred, labels=[1,0]).ravel()\n",
        "accuracy=(tp+tn)/(tn+fp+fn+tp)\n",
        "\n",
        "print(\"Desition tree confussion matrix accuracy : \", accuracy)"
      ],
      "execution_count": null,
      "outputs": [
        {
          "output_type": "stream",
          "text": [
            "Desition tree confussion matrix accuracy :  0.9041095890410958\n"
          ],
          "name": "stdout"
        }
      ]
    },
    {
      "cell_type": "markdown",
      "metadata": {
        "id": "QQDD4VsH56li"
      },
      "source": [
        "ref link for accuracy calculation : https://www.dataschool.io/simple-guide-to-confusion-matrix-terminology/"
      ]
    },
    {
      "cell_type": "code",
      "metadata": {
        "colab": {
          "base_uri": "https://localhost:8080/"
        },
        "id": "VCNwbJTB4i9s",
        "outputId": "001fbe53-5ef6-41a5-8861-c9898a1591de"
      },
      "source": [
        "confusion_matrix( y_test,y_pred1, labels=[1,0]) #confusion matrix for Knn Classification"
      ],
      "execution_count": null,
      "outputs": [
        {
          "output_type": "execute_result",
          "data": {
            "text/plain": [
              "array([[   4,   82],\n",
              "       [  14, 1944]])"
            ]
          },
          "metadata": {
            "tags": []
          },
          "execution_count": 142
        }
      ]
    },
    {
      "cell_type": "code",
      "metadata": {
        "colab": {
          "base_uri": "https://localhost:8080/"
        },
        "id": "tXr59d6e4N3F",
        "outputId": "233d3852-7f22-44b4-e8e3-daf2b8373471"
      },
      "source": [
        "\n",
        "confusion_matrix( y_test,y_pred1, labels=[1,0])\n",
        "tn1, fp1, fn1, tp1=confusion_matrix( y_test,y_pred1, labels=[1,0]).ravel()\n",
        "accuracy1=(tp1+tn1)/(tn1+fp1+fn1+tp1)\n",
        "\n",
        "print(\"Knn Classification confussion matrix accuracy : \", accuracy1)"
      ],
      "execution_count": null,
      "outputs": [
        {
          "output_type": "stream",
          "text": [
            "Knn Classification confussion matrix accuracy :  0.9530332681017613\n"
          ],
          "name": "stdout"
        }
      ]
    },
    {
      "cell_type": "markdown",
      "metadata": {
        "id": "A7zkxV650Ns6"
      },
      "source": [
        ""
      ]
    }
  ]
}